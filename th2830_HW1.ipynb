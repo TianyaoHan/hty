{
 "cells": [
  {
   "cell_type": "code",
   "execution_count": 2,
   "metadata": {},
   "outputs": [],
   "source": [
    "import numpy as np \n",
    "import pandas as pd \n",
    "import statsmodels.api as sm\n",
    "from scipy.optimize import minimize\n",
    "from sklearn import preprocessing\n",
    "from sklearn.model_selection import train_test_split\n",
    "import matplotlib.pyplot as plt "
   ]
  },
  {
   "cell_type": "markdown",
   "metadata": {},
   "source": [
    "## 1. Set up "
   ]
  },
  {
   "cell_type": "code",
   "execution_count": 10,
   "metadata": {},
   "outputs": [],
   "source": [
    "wine_data = pd.read_csv(\"./winequality-red.csv\", sep=\";\")"
   ]
  },
  {
   "cell_type": "code",
   "execution_count": 11,
   "metadata": {},
   "outputs": [],
   "source": [
    "X = wine_data.iloc[:,0:-1].values\n",
    "y = wine_data.iloc[:,-1].values"
   ]
  },
  {
   "cell_type": "code",
   "execution_count": 12,
   "metadata": {},
   "outputs": [],
   "source": [
    "X_train, X_test, y_train, y_test = train_test_split(X, y, test_size=0.2, random_state=1)\n",
    "X_train = sm.add_constant(X_train)\n",
    "X_test = sm.add_constant(X_test)"
   ]
  },
  {
   "cell_type": "code",
   "execution_count": 13,
   "metadata": {},
   "outputs": [
    {
     "data": {
      "text/html": [
       "<div>\n",
       "<style scoped>\n",
       "    .dataframe tbody tr th:only-of-type {\n",
       "        vertical-align: middle;\n",
       "    }\n",
       "\n",
       "    .dataframe tbody tr th {\n",
       "        vertical-align: top;\n",
       "    }\n",
       "\n",
       "    .dataframe thead th {\n",
       "        text-align: right;\n",
       "    }\n",
       "</style>\n",
       "<table border=\"1\" class=\"dataframe\">\n",
       "  <thead>\n",
       "    <tr style=\"text-align: right;\">\n",
       "      <th></th>\n",
       "      <th>fixed acidity</th>\n",
       "      <th>volatile acidity</th>\n",
       "      <th>citric acid</th>\n",
       "      <th>residual sugar</th>\n",
       "      <th>chlorides</th>\n",
       "      <th>free sulfur dioxide</th>\n",
       "      <th>total sulfur dioxide</th>\n",
       "      <th>density</th>\n",
       "      <th>pH</th>\n",
       "      <th>sulphates</th>\n",
       "      <th>alcohol</th>\n",
       "      <th>quality</th>\n",
       "    </tr>\n",
       "  </thead>\n",
       "  <tbody>\n",
       "    <tr>\n",
       "      <th>0</th>\n",
       "      <td>7.4</td>\n",
       "      <td>0.70</td>\n",
       "      <td>0.00</td>\n",
       "      <td>1.9</td>\n",
       "      <td>0.076</td>\n",
       "      <td>11.0</td>\n",
       "      <td>34.0</td>\n",
       "      <td>0.9978</td>\n",
       "      <td>3.51</td>\n",
       "      <td>0.56</td>\n",
       "      <td>9.4</td>\n",
       "      <td>5</td>\n",
       "    </tr>\n",
       "    <tr>\n",
       "      <th>1</th>\n",
       "      <td>7.8</td>\n",
       "      <td>0.88</td>\n",
       "      <td>0.00</td>\n",
       "      <td>2.6</td>\n",
       "      <td>0.098</td>\n",
       "      <td>25.0</td>\n",
       "      <td>67.0</td>\n",
       "      <td>0.9968</td>\n",
       "      <td>3.20</td>\n",
       "      <td>0.68</td>\n",
       "      <td>9.8</td>\n",
       "      <td>5</td>\n",
       "    </tr>\n",
       "    <tr>\n",
       "      <th>2</th>\n",
       "      <td>7.8</td>\n",
       "      <td>0.76</td>\n",
       "      <td>0.04</td>\n",
       "      <td>2.3</td>\n",
       "      <td>0.092</td>\n",
       "      <td>15.0</td>\n",
       "      <td>54.0</td>\n",
       "      <td>0.9970</td>\n",
       "      <td>3.26</td>\n",
       "      <td>0.65</td>\n",
       "      <td>9.8</td>\n",
       "      <td>5</td>\n",
       "    </tr>\n",
       "    <tr>\n",
       "      <th>3</th>\n",
       "      <td>11.2</td>\n",
       "      <td>0.28</td>\n",
       "      <td>0.56</td>\n",
       "      <td>1.9</td>\n",
       "      <td>0.075</td>\n",
       "      <td>17.0</td>\n",
       "      <td>60.0</td>\n",
       "      <td>0.9980</td>\n",
       "      <td>3.16</td>\n",
       "      <td>0.58</td>\n",
       "      <td>9.8</td>\n",
       "      <td>6</td>\n",
       "    </tr>\n",
       "    <tr>\n",
       "      <th>4</th>\n",
       "      <td>7.4</td>\n",
       "      <td>0.70</td>\n",
       "      <td>0.00</td>\n",
       "      <td>1.9</td>\n",
       "      <td>0.076</td>\n",
       "      <td>11.0</td>\n",
       "      <td>34.0</td>\n",
       "      <td>0.9978</td>\n",
       "      <td>3.51</td>\n",
       "      <td>0.56</td>\n",
       "      <td>9.4</td>\n",
       "      <td>5</td>\n",
       "    </tr>\n",
       "  </tbody>\n",
       "</table>\n",
       "</div>"
      ],
      "text/plain": [
       "   fixed acidity  volatile acidity  citric acid  residual sugar  chlorides  \\\n",
       "0            7.4              0.70         0.00             1.9      0.076   \n",
       "1            7.8              0.88         0.00             2.6      0.098   \n",
       "2            7.8              0.76         0.04             2.3      0.092   \n",
       "3           11.2              0.28         0.56             1.9      0.075   \n",
       "4            7.4              0.70         0.00             1.9      0.076   \n",
       "\n",
       "   free sulfur dioxide  total sulfur dioxide  density    pH  sulphates  \\\n",
       "0                 11.0                  34.0   0.9978  3.51       0.56   \n",
       "1                 25.0                  67.0   0.9968  3.20       0.68   \n",
       "2                 15.0                  54.0   0.9970  3.26       0.65   \n",
       "3                 17.0                  60.0   0.9980  3.16       0.58   \n",
       "4                 11.0                  34.0   0.9978  3.51       0.56   \n",
       "\n",
       "   alcohol  quality  \n",
       "0      9.4        5  \n",
       "1      9.8        5  \n",
       "2      9.8        5  \n",
       "3      9.8        6  \n",
       "4      9.4        5  "
      ]
     },
     "execution_count": 13,
     "metadata": {},
     "output_type": "execute_result"
    }
   ],
   "source": [
    "wine_data.head()"
   ]
  },
  {
   "cell_type": "markdown",
   "metadata": {},
   "source": [
    "## 2. Regression equations and functions"
   ]
  },
  {
   "cell_type": "markdown",
   "metadata": {},
   "source": [
    "I choose to ignore the intercept for this homework. So the equation for the linear model to predict y from X is:  $$y = \\Sigma_{i=1}^{9} \\beta_{i}x_i = X\\beta$$\n",
    "And the equation for computing RSS is: \n",
    "$$RSS(\\beta) = \\Sigma_{i=1}^{m}(y_i - X_{i}\\beta)^2$$"
   ]
  },
  {
   "cell_type": "code",
   "execution_count": 14,
   "metadata": {},
   "outputs": [],
   "source": [
    "def pred(X, beta):\n",
    "    \"\"\"\n",
    "    X: feature matrix\n",
    "    beta: parameter vector\n",
    "    return: predicting vector for y\n",
    "    \"\"\"\n",
    "    return np.dot(X,beta)\n",
    "\n",
    "def RSS(beta,X,y):\n",
    "    \"\"\"\n",
    "    beta: parameter vector\n",
    "    X: feature matrix\n",
    "    y: y for testing\n",
    "    return: RSS\n",
    "    \"\"\"\n",
    "    y_pred = pred(X,beta)\n",
    "    return sum((y_pred-y)**2)"
   ]
  },
  {
   "cell_type": "markdown",
   "metadata": {},
   "source": [
    "## 3. Optimizing the model"
   ]
  },
  {
   "cell_type": "code",
   "execution_count": 16,
   "metadata": {},
   "outputs": [],
   "source": [
    "beta0 = np.random.normal(0,1,X_train.shape[1])\n",
    "res = minimize(fun=RSS, x0=beta0, args=(X_train,y_train))\n",
    "beta_hat = res.x"
   ]
  },
  {
   "cell_type": "markdown",
   "metadata": {},
   "source": [
    "### Question 1"
   ]
  },
  {
   "cell_type": "markdown",
   "metadata": {},
   "source": [
    "What are the qualitative results from your model? "
   ]
  },
  {
   "cell_type": "markdown",
   "metadata": {},
   "source": [
    "**Answer:** The qualitative results from my model is shown below. Some features have posive impact on quality while some features have negative impact on quality."
   ]
  },
  {
   "cell_type": "code",
   "execution_count": 17,
   "metadata": {},
   "outputs": [
    {
     "name": "stdout",
     "output_type": "stream",
     "text": [
      "fixed acidity: 0.048\n",
      "volatile acidity: -1.118\n",
      "citric acid: -0.276\n",
      "residual sugar: 0.020\n",
      "chlorides: -1.769\n",
      "free sulfur dioxide: 0.005\n",
      "total sulfur dioxide: -0.003\n",
      "density: -36.691\n",
      "pH: -0.348\n",
      "sulphates: 0.930\n",
      "alcohol: 0.266\n"
     ]
    }
   ],
   "source": [
    "feature_name = wine_data.columns[:-1]\n",
    "for i,j in zip(feature_name, beta_hat[1:]):\n",
    "    print(\"{}: {:.3f}\".format(i,j))"
   ]
  },
  {
   "cell_type": "markdown",
   "metadata": {},
   "source": [
    "Which features seem to be most important?"
   ]
  },
  {
   "cell_type": "markdown",
   "metadata": {},
   "source": [
    "**Answer:** If we do not consider normalizatin process and simply read the coefficients of the features learned by this linear model, density is the most important feature since it has max absolute value."
   ]
  },
  {
   "cell_type": "markdown",
   "metadata": {},
   "source": [
    "Do you think that the magnitude of the features in X may affect the results (for example, the average total sulfur dioxide across all wines is 46.47, but the average chlorides is only 0.087)"
   ]
  },
  {
   "cell_type": "markdown",
   "metadata": {},
   "source": [
    "**Answer:** Yes, the magnitude of the features in X may affect the results. If we do normalization, the coefficents of the features may be different."
   ]
  },
  {
   "cell_type": "markdown",
   "metadata": {},
   "source": [
    "### Question 2"
   ]
  },
  {
   "cell_type": "markdown",
   "metadata": {},
   "source": [
    "How well does your model fit? You should be able to measure the goodness of fit, RSS, on both the training data and the test data, but only report the results on the test data. In Machine Learning we almost always only care about how well the model fits on data that has not been used to fit the model, because we need to use the model in the future, not the past. Therefore, we only report performance with holdout data, or test data. "
   ]
  },
  {
   "cell_type": "markdown",
   "metadata": {},
   "source": [
    "**Answer:** From the following result we can see that RSS on testing set is 122.58."
   ]
  },
  {
   "cell_type": "code",
   "execution_count": 19,
   "metadata": {},
   "outputs": [
    {
     "name": "stdout",
     "output_type": "stream",
     "text": [
      "RSS on training set is:  544.8211250922011\n",
      "RSS on testing set is:  122.58238171946738\n",
      "MSE on training set is:  0.4259742963973425\n",
      "MSE on testing set is:  0.38306994287333557\n"
     ]
    }
   ],
   "source": [
    "RSS_test = RSS(beta_hat,X_test,y_test)\n",
    "RSS_train = RSS(beta_hat,X_train,y_train)\n",
    "print(\"RSS on training set is: \", RSS_train)\n",
    "print(\"RSS on testing set is: \", RSS_test)\n",
    "print(\"MSE on training set is: \", RSS_train/X_train.shape[0])\n",
    "print(\"MSE on testing set is: \", RSS_test/X_test.shape[0])"
   ]
  },
  {
   "cell_type": "markdown",
   "metadata": {},
   "source": [
    "### Question 3"
   ]
  },
  {
   "cell_type": "markdown",
   "metadata": {},
   "source": [
    "Does the end result or RSS change if you try different initial values of β? What happens if you change the magnitude of the initial β?"
   ]
  },
  {
   "cell_type": "markdown",
   "metadata": {},
   "source": [
    "**Answer:** I choose to change the magnitude of the initial $\\beta$ and the result is showen below. From results we can know that change the magnitude of the initial $\\beta$ will not change the final RSS, since linear regression is looking for the global optima."
   ]
  },
  {
   "cell_type": "code",
   "execution_count": 20,
   "metadata": {},
   "outputs": [
    {
     "name": "stdout",
     "output_type": "stream",
     "text": [
      "RSS of initial beta with mean 0:  122.58394737125313\n",
      "RSS of initial beta with mean 1:  122.58278478892431\n",
      "RSS of initial beta with mean 5:  122.58298928450189\n",
      "RSS of initial beta with mean 10:  122.58330601805694\n"
     ]
    }
   ],
   "source": [
    "beta_dic = {}\n",
    "for i in [0,1,5,10]:\n",
    "    beta0 = np.random.normal(5,1,X_train.shape[1])\n",
    "    res = minimize(fun=RSS, x0=beta0, args=(X_train,y_train))\n",
    "    beta_hat = res.x\n",
    "    print(\"RSS of initial beta with mean {}: \".format(i), RSS(beta_hat,X_test,y_test))"
   ]
  },
  {
   "cell_type": "markdown",
   "metadata": {},
   "source": [
    "### Question 4"
   ]
  },
  {
   "cell_type": "markdown",
   "metadata": {},
   "source": [
    "Does the choice of solver method change the end result or RSS?"
   ]
  },
  {
   "cell_type": "markdown",
   "metadata": {},
   "source": [
    "**Answer:** I tried some solver methods below. They almost generated the same RSS except for the Nelder-Mead method. The Nelder–Mead technique is a heuristic search method that can converge to non-stationary points, so it may not find the global optima."
   ]
  },
  {
   "cell_type": "code",
   "execution_count": 21,
   "metadata": {},
   "outputs": [
    {
     "name": "stdout",
     "output_type": "stream",
     "text": [
      "method:  Nelder-Mead :   202.38190261977604\n",
      "method:  Powell :   124.09855585876436\n",
      "method:  CG :   121.51907876858523\n",
      "method:  BFGS :   122.58286221147135\n",
      "method:  SLSQP :   122.582934878148\n",
      "method:  L-BFGS-B :   121.51825765503396\n"
     ]
    }
   ],
   "source": [
    "methods = ['Nelder-Mead','Powell','CG','BFGS','SLSQP','L-BFGS-B']\n",
    "beta0 = np.random.normal(0,1,X_train.shape[1])\n",
    "for method in methods:\n",
    "    res = minimize(fun=RSS, x0=beta0, method=method, args=(X_train,y_train))\n",
    "    beta_hat = res.x\n",
    "    print(\"method: \", method, \":  \", RSS(beta_hat,X_test,y_test))"
   ]
  },
  {
   "cell_type": "markdown",
   "metadata": {},
   "source": [
    "## 4. Regularizing the model"
   ]
  },
  {
   "cell_type": "markdown",
   "metadata": {},
   "source": [
    "### Question 1"
   ]
  },
  {
   "cell_type": "markdown",
   "metadata": {},
   "source": [
    "Try adding in an L2 (aka Ridge) regularization penalty to your model above to create a new, regularized model. See equation 3.41 for guidance. You will need to choose a value of lambda, so start with something small, like 0.01. "
   ]
  },
  {
   "cell_type": "markdown",
   "metadata": {},
   "source": [
    "**Answer:** As shown below, RSS with L2 regularization is 121.62."
   ]
  },
  {
   "cell_type": "code",
   "execution_count": 22,
   "metadata": {},
   "outputs": [
    {
     "name": "stdout",
     "output_type": "stream",
     "text": [
      "RSS with L2 regularization:  121.62383944668497\n"
     ]
    }
   ],
   "source": [
    "def Ridge(beta,X,y):\n",
    "    \"\"\"\n",
    "    beta: parameter vector\n",
    "    X: feature matrix\n",
    "    y: y for testing\n",
    "    return: RSS\n",
    "    \"\"\"\n",
    "    y_pred = pred(X,beta)\n",
    "    return sum((y_pred-y)**2) + lamda*sum((beta[1:]**2))\n",
    "\n",
    "beta0 = np.random.normal(0,1,X_train.shape[1])\n",
    "lamda = 0.01\n",
    "res = minimize(fun=Ridge, x0=beta0, args=(X_train,y_train))\n",
    "beta_hat = res.x\n",
    "print(\"RSS with L2 regularization: \",RSS(beta_hat,X_test,y_test))"
   ]
  },
  {
   "cell_type": "markdown",
   "metadata": {},
   "source": [
    "### Question 2"
   ]
  },
  {
   "cell_type": "markdown",
   "metadata": {},
   "source": [
    "How does RSS on the training data change? How does RSS on the test data change?"
   ]
  },
  {
   "cell_type": "markdown",
   "metadata": {},
   "source": [
    "**Answer:** From the result shown below, RSS on training data changed from 544.82 to 545.65, became a little bit higher while RSS on testing data changed from 121.58 to 121.62, bacame a litter bit lower, but not very significant. I will try to use normalization in Question 5 to see whether things can become better if normalization is conducted."
   ]
  },
  {
   "cell_type": "code",
   "execution_count": 23,
   "metadata": {},
   "outputs": [],
   "source": [
    "beta0 = np.random.normal(0,1,X_train.shape[1])\n",
    "lamda = 0.01\n",
    "beta_hat_without_L2 = minimize(fun=RSS, x0=beta0, args=(X_train,y_train)).x\n",
    "beta_hat_with_L2 = minimize(fun=Ridge, x0=beta0, args=(X_train,y_train)).x"
   ]
  },
  {
   "cell_type": "code",
   "execution_count": 24,
   "metadata": {},
   "outputs": [
    {
     "name": "stdout",
     "output_type": "stream",
     "text": [
      "RSS without L2 regularization on training set:  544.8211248988536\n",
      "RSS with L2 regularization on training set:  545.6587836021948\n",
      "RSS without L2 regularization on test set:  122.58333984739846\n",
      "RSS with L2 regularization on test set:  121.62387477457708\n"
     ]
    }
   ],
   "source": [
    "print(\"RSS without L2 regularization on training set: \",RSS(beta_hat_without_L2,X_train,y_train))\n",
    "print(\"RSS with L2 regularization on training set: \",RSS(beta_hat_with_L2,X_train,y_train))\n",
    "print(\"RSS without L2 regularization on test set: \",RSS(beta_hat_without_L2,X_test,y_test))\n",
    "print(\"RSS with L2 regularization on test set: \",RSS(beta_hat_with_L2,X_test,y_test))"
   ]
  },
  {
   "cell_type": "markdown",
   "metadata": {},
   "source": [
    "### Question 4"
   ]
  },
  {
   "cell_type": "markdown",
   "metadata": {},
   "source": [
    "Now try using an L1 (aka Lasso) regularization penalty instead. See equation 3.51 for example. Report your findings on how RSS changes, and if you can roughly tune lambda."
   ]
  },
  {
   "cell_type": "markdown",
   "metadata": {},
   "source": [
    "**Answer:** First keep lambda as 0.01, RSS on testing data changed from 122.58 to 122.35, bacame a litter bit lower, but not very significant. Then I will try to tune lambda."
   ]
  },
  {
   "cell_type": "code",
   "execution_count": 25,
   "metadata": {},
   "outputs": [
    {
     "name": "stdout",
     "output_type": "stream",
     "text": [
      "RSS without L1 regularization on training set:  544.8211248988536\n",
      "RSS with L1 regularization on training set:  544.855795886887\n",
      "RSS without L1 regularization on test set:  122.58333984739846\n",
      "RSS with L1 regularization on test set:  122.35133901052352\n"
     ]
    }
   ],
   "source": [
    "def Lasso(beta,X,y):\n",
    "    \"\"\"\n",
    "    beta: parameter vector\n",
    "    X: feature matrix\n",
    "    y: y for testing\n",
    "    return: RSS\n",
    "    \"\"\"\n",
    "    y_pred = pred(X,beta)\n",
    "    return sum((y_pred-y)**2) + lamda*sum(abs(beta[1:]))\n",
    "# First use lambda as 0.01\n",
    "beta0 = np.random.normal(0,1,X_train.shape[1])\n",
    "lamda = 0.01\n",
    "beta_hat_with_L1 = minimize(fun=Lasso, x0=beta0, args=(X_train,y_train)).x\n",
    "print(\"RSS without L1 regularization on training set: \",RSS(beta_hat_without_L2,X_train,y_train))\n",
    "print(\"RSS with L1 regularization on training set: \",RSS(beta_hat_with_L1,X_train,y_train))\n",
    "print(\"RSS without L1 regularization on test set: \",RSS(beta_hat_without_L2,X_test,y_test))\n",
    "print(\"RSS with L1 regularization on test set: \",RSS(beta_hat_with_L1,X_test,y_test))"
   ]
  },
  {
   "cell_type": "markdown",
   "metadata": {},
   "source": [
    "I first tried lambda from 0 to 100, and found that RSS reach minima when lambda lies between 0.001 and 0.1. Then I grid search lambda from 0.001 to 0.1. The result plot is shown below. The best lambda for this problem is around 0.05."
   ]
  },
  {
   "cell_type": "code",
   "execution_count": 26,
   "metadata": {},
   "outputs": [
    {
     "name": "stdout",
     "output_type": "stream",
     "text": [
      "0 122.58292639006923\n",
      "1e-06 122.58302331980934\n",
      "1e-05 122.58194673783503\n",
      "0.0001 122.58144445761165\n",
      "0.001 122.55850186682224\n",
      "0.01 122.35133901052352\n",
      "0.1 121.55892881264457\n",
      "1 121.49148767901363\n",
      "10 122.96264626940136\n",
      "100 141.07397210859327\n"
     ]
    }
   ],
   "source": [
    "lamda_lst = [0,0.000001,0.00001,0.0001,0.001,0.01,0.1,1,10,100]\n",
    "for lamda in lamda_lst:\n",
    "    beta_hat = minimize(fun=Lasso, x0=beta0, args=(X_train,y_train)).x\n",
    "    rss = RSS(beta_hat,X_test,y_test)\n",
    "    print(lamda,rss)"
   ]
  },
  {
   "cell_type": "code",
   "execution_count": 28,
   "metadata": {},
   "outputs": [],
   "source": [
    "lamda_lst = np.arange(0.001,0.11,0.001)\n",
    "RSS_lst = []\n",
    "for lamda in lamda_lst:\n",
    "    beta_hat = minimize(fun=Lasso, x0=beta0, args=(X_train,y_train)).x\n",
    "    RSS_lst.append(RSS(beta_hat,X_test,y_test))"
   ]
  },
  {
   "cell_type": "code",
   "execution_count": 29,
   "metadata": {},
   "outputs": [
    {
     "data": {
      "image/png": "[encoded data removed]",
      "text/plain": [
       "<Figure size 432x288 with 1 Axes>"
      ]
     },
     "metadata": {
      "needs_background": "light"
     },
     "output_type": "display_data"
    }
   ],
   "source": [
    "plt.plot(lamda_lst,RSS_lst);"
   ]
  },
  {
   "cell_type": "markdown",
   "metadata": {},
   "source": [
    "### Question 5"
   ]
  },
  {
   "cell_type": "markdown",
   "metadata": {},
   "source": [
    "Again, do you think that the magnitude of the features in X may affect the results with regularization?"
   ]
  },
  {
   "cell_type": "markdown",
   "metadata": {},
   "source": [
    "**Answer:** Yes, I think the magnitude of the features in X may affect the results with regularization. Suppose we are using lambda = 0.01 and L1 regularization. The resulting RSS is 10079.45, much bigger than the RSS before. While this time since every feature has the same scale, we can say that alcohol is the most important feature since it has largest beta, 0.288."
   ]
  },
  {
   "cell_type": "code",
   "execution_count": 48,
   "metadata": {},
   "outputs": [
    {
     "name": "stdout",
     "output_type": "stream",
     "text": [
      "RSS with L1 regularization on scaled test set:  10079.456232620083\n"
     ]
    }
   ],
   "source": [
    "X_train_scale = preprocessing.scale(X_train)\n",
    "X_test_scale = preprocessing.scale(X_test)\n",
    "\n",
    "beta0 = np.random.normal(0,1,X_train.shape[1])\n",
    "lamda = 0.01\n",
    "beta_hat_with_L1 = minimize(fun=Lasso, x0=beta0, args=(X_train_scale,y_train)).x\n",
    "print(\"RSS with L1 regularization on scaled test set: \",RSS(beta_hat_with_L1,X_test_scale,y_test))"
   ]
  },
  {
   "cell_type": "code",
   "execution_count": 49,
   "metadata": {},
   "outputs": [
    {
     "data": {
      "text/plain": [
       "array([-1.01420455,  0.08518625, -0.19965283, -0.05462014,  0.02862941,\n",
       "       -0.08415666,  0.055898  , -0.11088721, -0.07042476, -0.05453225,\n",
       "        0.15690765,  0.28803828])"
      ]
     },
     "execution_count": 49,
     "metadata": {},
     "output_type": "execute_result"
    }
   ],
   "source": [
    "beta_hat_with_L1"
   ]
  }
 ],
 "metadata": {
  "kernelspec": {
   "display_name": "Python 3",
   "language": "python",
   "name": "python3"
  },
  "language_info": {
   "codemirror_mode": {
    "name": "ipython",
    "version": 3
   },
   "file_extension": ".py",
   "mimetype": "text/x-python",
   "name": "python",
   "nbconvert_exporter": "python",
   "pygments_lexer": "ipython3",
   "version": "3.6.2"
  }
 },
 "nbformat": 4,
 "nbformat_minor": 2
}
